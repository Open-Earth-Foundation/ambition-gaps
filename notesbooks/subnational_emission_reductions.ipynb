{
 "cells": [
  {
   "cell_type": "markdown",
   "id": "7e403838-d2f6-4766-87dd-445c3d4c1b8e",
   "metadata": {},
   "source": [
    "# Target Gaps: emission reduction approach\n",
    "\n",
    "Here we use the OpenClimate database to compare the aggregate of subnational emission targets to the national determined contribution (NDC)."
   ]
  },
  {
   "cell_type": "code",
   "execution_count": 1,
   "id": "f8d0ff4c-d1ea-4404-bb3f-9031bcb7742f",
   "metadata": {},
   "outputs": [],
   "source": [
    "import matplotlib.pyplot as plt\n",
    "from matplotlib.ticker import AutoMinorLocator\n",
    "import math\n",
    "import numpy as np\n",
    "import openclimate as oc\n",
    "import pandas as pd"
   ]
  },
  {
   "cell_type": "code",
   "execution_count": 2,
   "id": "95b7e0ae-3e01-4570-adc3-be92b0e15894",
   "metadata": {},
   "outputs": [],
   "source": [
    "from utils import actor_parts, get_target, get_emissions, ipcc_range, linear_equation, scaled_emissions"
   ]
  },
  {
   "cell_type": "code",
   "execution_count": 13,
   "id": "2eb39d13-82d3-4113-8a04-3f4d461f292f",
   "metadata": {},
   "outputs": [],
   "source": [
    "# choose actor and target year\n",
    "actor_id = 'CA'\n",
    "target_year = 2030\n",
    "\n",
    "# emissions datasource dictionary\n",
    "datasources = {\n",
    "    'CA': 'ECCC:GHG_inventory:2022-04-13',\n",
    "    'GB': 'NAEI:DA_GHGI_1990_2020:v4.1',\n",
    "    'US': 'EPA:state_GHG_inventory:2023-04-26'\n",
    "}\n",
    "\n",
    "\n",
    "datasource_id = datasources[actor_id]\n",
    "\n",
    "df_actor_id = (\n",
    "    oc.Client()\n",
    "    .country_codes()\n",
    "    .loc[lambda x: x['actor_id'] == actor_id].drop(columns='type')\n",
    ")\n",
    "\n",
    "df_parts = actor_parts(actor_id)\n",
    "df_parts_and_actor = pd.concat([df_parts, df_actor_id])\n",
    "\n",
    "# subnational emissions\n",
    "df_emissions_parts = pd.concat(\n",
    "    [get_emissions(part_id, datasource_id) for part_id in df_parts['actor_id']]\n",
    ")\n",
    "\n",
    "df_targets = (\n",
    "    pd.concat(\n",
    "        [get_target(part_id, target_year) for part_id in df_parts_and_actor['actor_id']]\n",
    "    )\n",
    "    .sort_values(by=['actor_id', 'target_value'])\n",
    "    .drop_duplicates('actor_id', keep='first')\n",
    "    .reset_index(drop=True)\n",
    ")\n",
    "\n",
    "df_emissions_nat = (\n",
    "    df_emissions_parts\n",
    "    .groupby('year')\n",
    "    .sum(numeric_only=True)\n",
    "    .reset_index()\n",
    "    .assign(actor_id=actor_id, datasource_id=datasource_id)\n",
    ")\n",
    "\n",
    "df_emissions = pd.concat([df_emissions_nat, df_emissions_parts])\n",
    "\n",
    "df_baseline_years = (\n",
    "    df_targets\n",
    "    .loc[df_targets['baseline_year'].notnull(), ['actor_id', 'baseline_year']]\n",
    "    .astype({'baseline_year':int})\n",
    "    .rename(columns={'baseline_year':'year'})\n",
    ")\n",
    "\n",
    "df_baseline_emissions = df_emissions.merge(df_baseline_years, on=['year','actor_id'], how='inner')\n",
    "\n",
    "astype_dict = {\n",
    "        'actor_id': str, \n",
    "        'baseline_year': int, \n",
    "        'target_year': int, \n",
    "        'target_value': int, \n",
    "        'target_unit': str\n",
    "}\n",
    "\n",
    "df_targets = df_targets.astype(astype_dict)\n",
    "\n",
    "df_out = (\n",
    "    pd.merge(\n",
    "        df_targets, \n",
    "        df_baseline_emissions[['total_emissions', 'actor_id']].rename(columns={'total_emissions':'baseline_emissions'}), \n",
    "        on='actor_id', how='left')\n",
    "\n",
    "    # convert to megatonnes\n",
    "    .assign(baseline_emissions = lambda row: row['baseline_emissions'] / 1_000_000)\n",
    "    \n",
    "    # set target emissions, scale linearly if needed\n",
    "    .assign(target_emissions = lambda x: \n",
    "            x.apply(lambda row: scaled_emissions(\n",
    "                baseline_year=row['baseline_year'],\n",
    "                baseline_emissions=row['baseline_emissions'],\n",
    "                target_percent=row['target_value'],\n",
    "                target_year=row['target_year'],\n",
    "                scale_year=target_year\n",
    "            ), axis=1))\n",
    "    \n",
    "    # set target_emissions to target_unit if absolute emission target\n",
    "    .assign(target_emissions = lambda x: x.apply(\n",
    "        lambda row: row['target_value'] if (row['target_unit'] == 'tCO2e') else row['target_emissions'],\n",
    "        axis=1\n",
    "    ))\n",
    ")\n",
    "\n",
    "\n",
    "df_out = df_out.assign(emission_reduction = lambda x: x['baseline_emissions'] - x['target_emissions'])"
   ]
  },
  {
   "cell_type": "code",
   "execution_count": 14,
   "id": "0eab38c5-8ba8-4106-9f62-4de2dfbf11e9",
   "metadata": {},
   "outputs": [],
   "source": [
    "# split into national and subnational\n",
    "df_nat = df_out[df_out['actor_id'] == actor_id].merge(df_parts_and_actor, on='actor_id').drop_duplicates()\n",
    "df_subnat = df_out[df_out['actor_id'] != actor_id].merge(df_parts_and_actor, on='actor_id')\n"
   ]
  },
  {
   "cell_type": "code",
   "execution_count": 15,
   "id": "7dee6901-bf09-479e-a470-b7ecda89a62d",
   "metadata": {},
   "outputs": [
    {
     "name": "stdout",
     "output_type": "stream",
     "text": [
      "10 out of 14 subnationals have targets\n"
     ]
    }
   ],
   "source": [
    "print(f'{len(df_subnat)} out of {len(df_parts)} subnationals have targets')"
   ]
  },
  {
   "cell_type": "code",
   "execution_count": 16,
   "id": "45f1fe28-2800-49d4-a49f-3aaea30de83d",
   "metadata": {},
   "outputs": [],
   "source": [
    "# combine missing emissions with data\n",
    "df_tmp = df_subnat.loc[:, ['name', 'actor_id', 'emission_reduction']]\n",
    "df_fin = (\n",
    "    df_tmp\n",
    "    .sort_values(by='emission_reduction', ascending=False)\n",
    "    .assign(cumulative = lambda x: x['emission_reduction'].cumsum())\n",
    "    .reset_index(drop=True)\n",
    ")\n",
    "\n",
    "df_fin = df_fin.sort_values(by='emission_reduction', ascending=False)\n",
    "df_fin['cumulative'] = df_fin['emission_reduction'].cumsum()"
   ]
  },
  {
   "cell_type": "code",
   "execution_count": 17,
   "id": "574d1b52-2260-4385-ad38-2736c0bb470e",
   "metadata": {},
   "outputs": [
    {
     "data": {
      "text/plain": [
       "Text(1, 152.12147459000062, '148')"
      ]
     },
     "execution_count": 17,
     "metadata": {},
     "output_type": "execute_result"
    },
    {
     "data": {
      "image/png": "[encoded data removed]",
      "text/plain": [
       "<Figure size 600x600 with 1 Axes>"
      ]
     },
     "metadata": {},
     "output_type": "display_data"
    }
   ],
   "source": [
    "fig = plt.figure(figsize=(6, 6))\n",
    "ax = fig.add_subplot(111)\n",
    "\n",
    "national = df_nat['emission_reduction'].item()\n",
    "\n",
    "ax.bar(0, national, bottom=0, label=actor_id, color = 'black', edgecolor = 'black')\n",
    "\n",
    "y_offset = 20\n",
    "\n",
    "# number of states you want to show labels for\n",
    "n_states = 4\n",
    "\n",
    "previous = 0\n",
    "for iterator, row in df_fin.iterrows():\n",
    "    emissions = row['emission_reduction']\n",
    "    cumulative = row['cumulative']\n",
    "    part_id = row['actor_id']\n",
    "    actor_name = row['name']\n",
    "    \n",
    "    if iterator < n_states:\n",
    "        ax.text(1, cumulative - y_offset, actor_name, ha='center', weight='bold', color='white')\n",
    "    \n",
    "    ax.bar(1, emissions, bottom=previous, label=part_id, color = 'black', edgecolor = 'white')\n",
    "    \n",
    "    previous = cumulative\n",
    "    \n",
    "# Turn off the display of all ticks.\n",
    "ax.tick_params(which='both',     # Options for both major and minor ticks\n",
    "               top='off',        # turn off top ticks\n",
    "               left='off',       # turn off left ticks\n",
    "               right='off',      # turn off right ticks\n",
    "               bottom='off')     # turn off bottom ticks\n",
    "\n",
    "# Remove x tick marks\n",
    "plt.setp(ax.get_xticklabels(), rotation=0)\n",
    "\n",
    "# Hide the right and top spines\n",
    "ax.spines['right'].set_visible(False)\n",
    "ax.spines['left'].set_visible(False)\n",
    "ax.spines['top'].set_visible(False)\n",
    "ax.spines['bottom'].set_visible(False)\n",
    "\n",
    "# Only show ticks on the left and bottom spines\n",
    "ax.yaxis.set_ticks_position('left')\n",
    "ax.xaxis.set_ticks_position('bottom')\n",
    "\n",
    "# grid and tick marks\n",
    "y_max = math.ceil(national / 1000) * 1000\n",
    "y_diff = y_max / 5\n",
    "ax.set_yticks(np.arange(0, y_max, y_diff))\n",
    "ax.grid(axis='y',\n",
    "        which='major',\n",
    "        color=[0.8, 0.8, 0.8], linestyle='-')\n",
    "\n",
    "ax.set_axisbelow(True)\n",
    "ax.set_xticks([0, 1])\n",
    "ax.set_xticklabels(['National', 'Subnational'])\n",
    "ax.set_title(\"2030 emission reduction\")\n",
    "ax.set_ylabel(\"reduction (MtCO$_2$e)\")\n",
    "\n",
    "# add value above\n",
    "y_offset = 4\n",
    "ax.text(0, national + y_offset, round(national), ha='center', weight='bold')\n",
    "\n",
    "total = df_fin['cumulative'].iloc[-1]\n",
    "ax.text(1, total + y_offset, round(total), ha='center', weight='bold')"
   ]
  },
  {
   "cell_type": "code",
   "execution_count": null,
   "id": "5473cb24-a373-4f3b-8b94-7a6e97ad45ef",
   "metadata": {},
   "outputs": [],
   "source": []
  }
 ],
 "metadata": {
  "kernelspec": {
   "display_name": "digs",
   "language": "python",
   "name": "digs"
  },
  "language_info": {
   "codemirror_mode": {
    "name": "ipython",
    "version": 3
   },
   "file_extension": ".py",
   "mimetype": "text/x-python",
   "name": "python",
   "nbconvert_exporter": "python",
   "pygments_lexer": "ipython3",
   "version": "3.10.6"
  }
 },
 "nbformat": 4,
 "nbformat_minor": 5
}
